{
 "cells": [
  {
   "cell_type": "code",
   "execution_count": null,
   "id": "ab657a0e",
   "metadata": {},
   "outputs": [],
   "source": [
    "from argo_dataflow import pipeline, kafka"
   ]
  },
  {
   "cell_type": "code",
   "execution_count": null,
   "id": "f7c22dc6",
   "metadata": {},
   "outputs": [
    {
     "name": "stdout",
     "output_type": "stream",
     "text": [
      "Running: 1 running\n",
      "Running: 1 running\n"
     ]
    }
   ],
   "source": [
    "namespace='argo-dataflow-system'"
   ]
  },
  {
   "cell_type": "code",
   "execution_count": null,
   "id": "2cfbe759",
   "metadata": {},
   "outputs": [],
   "source": [
    "pipeline(\"hello\").namespace(namespace).step(kafka(\"input-topic\").filter(\"main\", \"string(msg) contains 'capybara'\").kafka(\"output-topic\")).run()"
   ]
  },
  {
   "cell_type": "code",
   "execution_count": null,
   "id": "7359941d",
   "metadata": {},
   "outputs": [],
   "source": []
  }
 ],
 "metadata": {
  "kernelspec": {
   "display_name": "Python 3",
   "language": "python",
   "name": "python3"
  },
  "language_info": {
   "codemirror_mode": {
    "name": "ipython",
    "version": 3
   },
   "file_extension": ".py",
   "mimetype": "text/x-python",
   "name": "python",
   "nbconvert_exporter": "python",
   "pygments_lexer": "ipython3",
   "version": "3.9.5"
  }
 },
 "nbformat": 4,
 "nbformat_minor": 5
}